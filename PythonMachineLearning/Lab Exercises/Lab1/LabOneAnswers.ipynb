{
 "cells": [
  {
   "cell_type": "markdown",
   "metadata": {},
   "source": [
    "# COMP 219 - Advanced Artificial Intelligence\n",
    "# Lab One - Code\n",
    "\n",
    "<b>Notice:</b> \n",
    "This is a Jupyter Notebook. This means that you can change or add code cells, and then run a cell by first selecting it and then clicking the run cell button above ( ▶| Run ) or hitting Ctrl + Enter to see the output.\n",
    "\n",
    "## 1. Reading\n",
    "Begin by reading chapter One of Python Machine Learning found in the learning resources section of the vital page for COMP219. Code for this book is available online via the vital page or the book website, however it is HEAVILY recommended that you do not copy and paste this, try to type each line and understand what it is you are doing as you go along\n",
    "\n",
    "## 2. Setting up your python environment\n",
    "### 2.1\n",
    "It is generally best practice to use virtual environments for our python package installations however for the scope of these labs this is not entirely necessary. If you are using the university computers then everything should be set up already. If not, install the Anaconda package following these instructions https://docs.continuum.io/anaconda/install/\n",
    "### 2.2\n",
    "Once Anaconda is fully installed, open the Spyder IDE to get started\n",
    "### 2.3\n",
    "Here we can see a new file, we can ensure that the packages we will be using for this module are installed by typing\n",
    "\n"
   ]
  },
  {
   "cell_type": "code",
   "execution_count": null,
   "metadata": {
    "collapsed": true
   },
   "outputs": [],
   "source": [
    "import numpy\n",
    "import scipy\n",
    "import sklearn\n",
    "import matplotlib\n",
    "import pandas"
   ]
  },
  {
   "cell_type": "markdown",
   "metadata": {},
   "source": [
    "Press F5 to run the code and save the file, the IPython console in the bottom right should show the file as run with no errors \n",
    "\n",
    "### 2.4 \n",
    "Once we have verified that the packages can be imported without error, create a new file as below and run it."
   ]
  },
  {
   "cell_type": "code",
   "execution_count": null,
   "metadata": {
    "collapsed": true
   },
   "outputs": [],
   "source": [
    "import numpy as np\n",
    "x = np.arange(100) \n",
    "y = np.array([5])\n",
    "z = x + y"
   ]
  },
  {
   "cell_type": "markdown",
   "metadata": {},
   "source": [
    "We can explore the values of x, y and z in the top right window by clicking on \"Variable Explorer\" and then double clicking on each of their values. Alternatively, we can find the values of each of these by typing "
   ]
  },
  {
   "cell_type": "code",
   "execution_count": null,
   "metadata": {
    "collapsed": true
   },
   "outputs": [],
   "source": [
    "x,y,z"
   ]
  },
  {
   "cell_type": "markdown",
   "metadata": {},
   "source": [
    "into the console in the bottom right and pressing enter. This can be very useful for finding information about how your program is operating.<br>\n",
    "\n",
    "At any point of the program we can set a breakpoint by pressing F12 on our desired line of code, when we press Ctrl + F5 our program will run in debug mode until this point and we can query our variable values via the console or variable explorer."
   ]
  },
  {
   "cell_type": "markdown",
   "metadata": {},
   "source": [
    "## 3. Tasks\n",
    "\n",
    "### 3.1 \n",
    "Using array indexing give the last ten values of z"
   ]
  },
  {
   "cell_type": "code",
   "execution_count": 3,
   "metadata": {},
   "outputs": [
    {
     "data": {
      "text/plain": [
       "(array([90, 91, 92, 93, 94, 95, 96, 97, 98, 99]),\n",
       " array([90, 91, 92, 93, 94, 95, 96, 97, 98, 99]))"
      ]
     },
     "execution_count": 3,
     "metadata": {},
     "output_type": "execute_result"
    }
   ],
   "source": [
    "import numpy as np\n",
    "import matplotlib.pyplot as plt\n",
    "\n",
    "x = np.arange(100)\n",
    "# more about arange: https://docs.scipy.org/doc/numpy-1.15.0/reference/generated/numpy.arange.html\n",
    "y = np.array(5)\n",
    "# more about array: https://docs.scipy.org/doc/numpy-1.15.1/reference/generated/numpy.array.html\n",
    "z = x + y\n",
    "\n",
    "# Here you will have to use 'list slicing', in the format arrayname[start:stop:step]\n",
    "# more about slicing: https://docs.scipy.org/doc/numpy-1.13.0/reference/arrays.indexing.html\n",
    "xLastTen = x[90:] #a slice of x, starting from element 90 to the end, with step 1\n",
    "# alternative way:\n",
    "xLastTen2 = x[-10:] #a slice of x, starting from element -10 (10th element from the end counting backwards) \n",
    "# to the end (moving forward), with step 1\n",
    "xLastTen, xLastTen2"
   ]
  },
  {
   "cell_type": "markdown",
   "metadata": {},
   "source": [
    "### 3.2\n",
    "Update the code so that x goes from 0 to 1000 (1000 not included) in steps of 10"
   ]
  },
  {
   "cell_type": "code",
   "execution_count": 4,
   "metadata": {},
   "outputs": [
    {
     "data": {
      "text/plain": [
       "array([  0,  10,  20,  30,  40,  50,  60,  70,  80,  90, 100, 110, 120,\n",
       "       130, 140, 150, 160, 170, 180, 190, 200, 210, 220, 230, 240, 250,\n",
       "       260, 270, 280, 290, 300, 310, 320, 330, 340, 350, 360, 370, 380,\n",
       "       390, 400, 410, 420, 430, 440, 450, 460, 470, 480, 490, 500, 510,\n",
       "       520, 530, 540, 550, 560, 570, 580, 590, 600, 610, 620, 630, 640,\n",
       "       650, 660, 670, 680, 690, 700, 710, 720, 730, 740, 750, 760, 770,\n",
       "       780, 790, 800, 810, 820, 830, 840, 850, 860, 870, 880, 890, 900,\n",
       "       910, 920, 930, 940, 950, 960, 970, 980, 990])"
      ]
     },
     "execution_count": 4,
     "metadata": {},
     "output_type": "execute_result"
    }
   ],
   "source": [
    "xUpdate = np.arange(0, 1000, 10)\n",
    "xUpdate"
   ]
  },
  {
   "cell_type": "code",
   "execution_count": 7,
   "metadata": {},
   "outputs": [
    {
     "data": {
      "text/plain": [
       "array([  0,  10,  20,  30,  40,  50,  60,  70,  80,  90, 100, 110, 120,\n",
       "       130, 140, 150, 160, 170, 180, 190, 200, 210, 220, 230, 240, 250,\n",
       "       260, 270, 280, 290, 300, 310, 320, 330, 340, 350, 360, 370, 380,\n",
       "       390, 400, 410, 420, 430, 440, 450, 460, 470, 480, 490, 500, 510,\n",
       "       520, 530, 540, 550, 560, 570, 580, 590, 600, 610, 620, 630, 640,\n",
       "       650, 660, 670, 680, 690, 700, 710, 720, 730, 740, 750, 760, 770,\n",
       "       780, 790, 800, 810, 820, 830, 840, 850, 860, 870, 880, 890, 900,\n",
       "       910, 920, 930, 940, 950, 960, 970, 980, 990])"
      ]
     },
     "execution_count": 7,
     "metadata": {},
     "output_type": "execute_result"
    }
   ],
   "source": [
    "#alternative way:\n",
    "xUpdate = np.array(10)*x\n",
    "xUpdate"
   ]
  },
  {
   "cell_type": "markdown",
   "metadata": {},
   "source": [
    "### 3.3 \n",
    "Reshape x so that it is no longer a 100 value array but a 10x10 matrix\n"
   ]
  },
  {
   "cell_type": "code",
   "execution_count": 9,
   "metadata": {},
   "outputs": [
    {
     "data": {
      "text/plain": [
       "array([[  0,  10,  20,  30,  40,  50,  60,  70,  80,  90],\n",
       "       [100, 110, 120, 130, 140, 150, 160, 170, 180, 190],\n",
       "       [200, 210, 220, 230, 240, 250, 260, 270, 280, 290],\n",
       "       [300, 310, 320, 330, 340, 350, 360, 370, 380, 390],\n",
       "       [400, 410, 420, 430, 440, 450, 460, 470, 480, 490],\n",
       "       [500, 510, 520, 530, 540, 550, 560, 570, 580, 590],\n",
       "       [600, 610, 620, 630, 640, 650, 660, 670, 680, 690],\n",
       "       [700, 710, 720, 730, 740, 750, 760, 770, 780, 790],\n",
       "       [800, 810, 820, 830, 840, 850, 860, 870, 880, 890],\n",
       "       [900, 910, 920, 930, 940, 950, 960, 970, 980, 990]])"
      ]
     },
     "execution_count": 9,
     "metadata": {},
     "output_type": "execute_result"
    }
   ],
   "source": [
    "xReshape = xUpdate.reshape((10, 10))\n",
    "# more about reshape: https://docs.scipy.org/doc/numpy-1.15.1/reference/generated/numpy.reshape.html\n",
    "xReshape"
   ]
  },
  {
   "cell_type": "markdown",
   "metadata": {},
   "source": [
    "### 3.4\n",
    "Multiply the first row by 1, the second by 2, the third by 3 and so on "
   ]
  },
  {
   "cell_type": "code",
   "execution_count": 10,
   "metadata": {},
   "outputs": [
    {
     "data": {
      "text/plain": [
       "array([[   0,   10,   20,   30,   40,   50,   60,   70,   80,   90],\n",
       "       [ 200,  220,  240,  260,  280,  300,  320,  340,  360,  380],\n",
       "       [ 600,  630,  660,  690,  720,  750,  780,  810,  840,  870],\n",
       "       [1200, 1240, 1280, 1320, 1360, 1400, 1440, 1480, 1520, 1560],\n",
       "       [2000, 2050, 2100, 2150, 2200, 2250, 2300, 2350, 2400, 2450],\n",
       "       [3000, 3060, 3120, 3180, 3240, 3300, 3360, 3420, 3480, 3540],\n",
       "       [4200, 4270, 4340, 4410, 4480, 4550, 4620, 4690, 4760, 4830],\n",
       "       [5600, 5680, 5760, 5840, 5920, 6000, 6080, 6160, 6240, 6320],\n",
       "       [7200, 7290, 7380, 7470, 7560, 7650, 7740, 7830, 7920, 8010],\n",
       "       [9000, 9100, 9200, 9300, 9400, 9500, 9600, 9700, 9800, 9900]])"
      ]
     },
     "execution_count": 10,
     "metadata": {},
     "output_type": "execute_result"
    }
   ],
   "source": [
    "# we are going to multiply the xReshape matrix by a column-matrix with elements from 1 to 10\n",
    "a = np.arange(1,11) #we do not use np.arange(10), because this would result to an array from 0 to 9\n",
    "aNew = a[:, np.newaxis] #this will convert the array a from a column-matrix (10x1) to a row-matrix (1x10)\n",
    "zNew = xReshape * aNew\n",
    "zNew"
   ]
  },
  {
   "cell_type": "markdown",
   "metadata": {},
   "source": [
    "### 3.5\n",
    "Using the matplotlib library plot each row of this matrix as a single series on the same graph"
   ]
  },
  {
   "cell_type": "code",
   "execution_count": 12,
   "metadata": {},
   "outputs": [
    {
     "data": {
      "image/png": "[encoded data removed]",
      "text/plain": [
       "<matplotlib.figure.Figure at 0x2109c55b748>"
      ]
     },
     "metadata": {},
     "output_type": "display_data"
    }
   ],
   "source": [
    "for i in range(10):\n",
    "    plt.plot(zNew[i])\n",
    "plt.show()"
   ]
  },
  {
   "cell_type": "markdown",
   "metadata": {},
   "source": [
    "### 3.6\n",
    "Using the matplotlib library plot each row of this matrix as a single series on separate sub-plots of the same figure and save this figure as figure1.png"
   ]
  },
  {
   "cell_type": "code",
   "execution_count": 13,
   "metadata": {},
   "outputs": [
    {
     "data": {
      "image/png": "[encoded data removed]",
      "text/plain": [
       "<matplotlib.figure.Figure at 0x26bfeb0b6d8>"
      ]
     },
     "metadata": {},
     "output_type": "display_data"
    }
   ],
   "source": [
    "for i in range(10):\n",
    "    plt.subplot(5, 2, i + 1) # places subplot in position i+1, of a plot with 5 rows and 2 columns\n",
    "    plt.plot(zNew[i])\n",
    "# more about subplot function: https://matplotlib.org/api/_as_gen/matplotlib.pyplot.subplot.html\n",
    "plt.savefig('figure1.png')\n",
    "plt.show()"
   ]
  },
  {
   "cell_type": "markdown",
   "metadata": {},
   "source": [
    "## 4. Further Questions\n",
    "<ol>\n",
    "<li> Give an example for a supervised learning problem, an unsupervised learning problem and a reinforcement learning problem </li>\n",
    "<li> For the spam filtering example, what would be our Training data and what would be our Labels? Once we have a machine learning algorithm, what would we expect the predictions to be </li>\n",
    "<li> Give an example of a supervised learning problem (not spam filtering) that is a classification task </li>\n",
    "<li> Give an example of a supervised learning problem (not student SAT scores) that is a regression task </li>\n",
    "<li> Give an example of a clustering learning problem </li>\n",
    "<li> How many samples are in the iris dataset and how many features are given for each sample in the iris dataset </li>\n",
    "</ol>"
   ]
  }
 ],
 "metadata": {
  "kernelspec": {
   "display_name": "Python 3",
   "language": "python",
   "name": "python3"
  },
  "language_info": {
   "codemirror_mode": {
    "name": "ipython",
    "version": 3
   },
   "file_extension": ".py",
   "mimetype": "text/x-python",
   "name": "python",
   "nbconvert_exporter": "python",
   "pygments_lexer": "ipython3",
   "version": "3.6.1"
  }
 },
 "nbformat": 4,
 "nbformat_minor": 2
}
